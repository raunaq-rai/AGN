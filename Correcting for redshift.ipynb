{
 "cells": [
  {
   "cell_type": "code",
   "execution_count": 1,
   "id": "ba53cbe1",
   "metadata": {},
   "outputs": [
    {
     "name": "stderr",
     "output_type": "stream",
     "text": [
      "100%|█████████████████████████████████████| 28837/28837 [33:27<00:00, 14.37it/s]\n"
     ]
    }
   ],
   "source": [
    "import pandas as pd\n",
    "import numpy as np\n",
    "from astropy.io import fits\n",
    "import os\n",
    "from tqdm import tqdm\n",
    "\n",
    "# Load the CSV file with redshift values\n",
    "data = pd.read_csv('filtered_non_spectral_data.csv')\n",
    "\n",
    "# Directory containing the spectra files and where to save the corrected spectra\n",
    "spectra_dir = 'spectra1'\n",
    "corrected_spectra_dir = 'redshift_corrected_spectra'\n",
    "os.makedirs(corrected_spectra_dir, exist_ok=True)\n",
    "\n",
    "# Function to apply redshift correction\n",
    "def correct_redshift(wavelength, z):\n",
    "    return wavelength / (1 + z)\n",
    "\n",
    "# Iterate through each entry in the CSV and process the corresponding FITS file\n",
    "for _, row in tqdm(data.iterrows(), total=data.shape[0]):\n",
    "    plate = int(row['Plate'])\n",
    "    mjd = int(row['MJD'])\n",
    "    fiber = int(row['Fiber'])\n",
    "    z = row['z']\n",
    "\n",
    "    # Construct the file name\n",
    "    filename = f'spec-{plate:04d}-{mjd:05d}-{fiber:04d}.fits'\n",
    "    file_path = os.path.join(spectra_dir, filename)\n",
    "    corrected_file_path = os.path.join(corrected_spectra_dir, filename)\n",
    "\n",
    "    # Check if the spectrum file exists\n",
    "    if os.path.exists(file_path):\n",
    "        with fits.open(file_path) as hdul:\n",
    "            # Assuming the wavelength is in logarithmic scale and needs to be corrected\n",
    "            loglam = hdul[1].data['loglam']\n",
    "            flux = hdul[1].data['flux']\n",
    "            \n",
    "            # Correct the wavelength for redshift\n",
    "            wavelength = 10**loglam\n",
    "            corrected_wavelength = correct_redshift(wavelength, z)\n",
    "\n",
    "            # Save the corrected data; here we just update the flux for demonstration\n",
    "            # In practice, you might need to update the structure and save as per your requirement\n",
    "            hdul[1].data['loglam'] = np.log10(corrected_wavelength)\n",
    "            hdul.writeto(corrected_file_path, overwrite=True)\n",
    "    else:\n",
    "        print(f'File {filename} not found.')\n"
   ]
  },
  {
   "cell_type": "code",
   "execution_count": null,
   "id": "fc4fc317",
   "metadata": {},
   "outputs": [],
   "source": []
  }
 ],
 "metadata": {
  "kernelspec": {
   "display_name": "Python 3 (ipykernel)",
   "language": "python",
   "name": "python3"
  },
  "language_info": {
   "codemirror_mode": {
    "name": "ipython",
    "version": 3
   },
   "file_extension": ".py",
   "mimetype": "text/x-python",
   "name": "python",
   "nbconvert_exporter": "python",
   "pygments_lexer": "ipython3",
   "version": "3.9.19"
  }
 },
 "nbformat": 4,
 "nbformat_minor": 5
}
