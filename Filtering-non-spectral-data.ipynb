{
 "cells": [
  {
   "cell_type": "code",
   "execution_count": 1,
   "id": "6463be30",
   "metadata": {},
   "outputs": [],
   "source": [
    "import pandas as pd\n",
    "import numpy as np\n",
    "from astropy.io import fits\n",
    "import os\n",
    "from tqdm import tqdm"
   ]
  },
  {
   "cell_type": "code",
   "execution_count": 2,
   "id": "fba53e49",
   "metadata": {},
   "outputs": [
    {
     "name": "stderr",
     "output_type": "stream",
     "text": [
      "Filtering: 100%|███████████████████████| 46759/46759 [00:04<00:00, 10439.68it/s]\n"
     ]
    },
    {
     "name": "stdout",
     "output_type": "stream",
     "text": [
      "    Plate      MJD  Fiber         z    logMBH  e_logMBH   LogREdd\n",
      "0  7238.0  56660.0   44.0  0.730000  8.148686  0.255619 -1.167203\n",
      "1  5134.0  55868.0  129.0  0.755000  8.644306  0.274348 -1.233196\n",
      "2  7038.0  56571.0  596.0  0.694000  8.345937  0.141407 -0.870526\n",
      "3  6267.0  56279.0  189.0  0.739000  8.644248  0.163346 -1.325952\n",
      "4  7902.0  57362.0  586.0  0.245966  8.336682  0.023865 -1.154839\n"
     ]
    }
   ],
   "source": [
    "import pandas as pd\n",
    "import os\n",
    "from tqdm import tqdm\n",
    "\n",
    "# Load the non-spectral data with redshift values\n",
    "non_spectral_data = pd.read_csv('non_spectral_data.csv')\n",
    "\n",
    "# Directory containing the spectra files\n",
    "spectra_dir = 'spectra1'\n",
    "\n",
    "# Initialize the list for storing rows that have a corresponding FITS file\n",
    "existing_files = []\n",
    "\n",
    "# Iterate through the DataFrame with a progress bar\n",
    "for index, row in tqdm(non_spectral_data.iterrows(), total=non_spectral_data.shape[0], desc=\"Filtering\"):\n",
    "    # Construct the filename based on Plate, MJD, and Fiber using the corrected f-string syntax\n",
    "    filename = f\"spec-{int(row['Plate']):04d}-{int(row['MJD']):05d}-{int(row['Fiber']):04d}.fits\"\n",
    "    file_path = os.path.join(spectra_dir, filename)\n",
    "\n",
    "    # Check if the FITS file exists and add to the list if it does\n",
    "    if os.path.exists(file_path):\n",
    "        existing_files.append(row)\n",
    "\n",
    "# Create a new DataFrame from the filtered data\n",
    "filtered_data = pd.DataFrame(existing_files)\n",
    "\n",
    "# Show the first few rows of the filtered DataFrame\n",
    "print(filtered_data.head())\n",
    "\n",
    "# Save the filtered data to a new CSV file\n",
    "filtered_data.to_csv('filtered_non_spectral_data.csv', index=False)\n"
   ]
  },
  {
   "cell_type": "code",
   "execution_count": null,
   "id": "8cc5122b",
   "metadata": {},
   "outputs": [],
   "source": []
  },
  {
   "cell_type": "code",
   "execution_count": null,
   "id": "2fa2b98a",
   "metadata": {},
   "outputs": [],
   "source": []
  },
  {
   "cell_type": "code",
   "execution_count": null,
   "id": "6690765c",
   "metadata": {},
   "outputs": [],
   "source": []
  }
 ],
 "metadata": {
  "kernelspec": {
   "display_name": "Python 3 (ipykernel)",
   "language": "python",
   "name": "python3"
  },
  "language_info": {
   "codemirror_mode": {
    "name": "ipython",
    "version": 3
   },
   "file_extension": ".py",
   "mimetype": "text/x-python",
   "name": "python",
   "nbconvert_exporter": "python",
   "pygments_lexer": "ipython3",
   "version": "3.9.19"
  }
 },
 "nbformat": 4,
 "nbformat_minor": 5
}
